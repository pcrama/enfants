{
 "cells": [
  {
   "cell_type": "markdown",
   "metadata": {},
   "source": [
    "Ces déclarations sont obligatoires, il faut les copier coller dans chaque nouveau document et les exécuter (Shift + Return) au début"
   ]
  },
  {
   "cell_type": "code",
   "execution_count": 55,
   "metadata": {},
   "outputs": [],
   "source": [
    "%matplotlib inline\n",
    "import imp\n",
    "from matplotlib import pyplot as plt\n",
    "import math"
   ]
  },
  {
   "cell_type": "code",
   "execution_count": 56,
   "metadata": {},
   "outputs": [],
   "source": [
    "import premier_jet as pj"
   ]
  },
  {
   "cell_type": "code",
   "execution_count": 57,
   "metadata": {},
   "outputs": [
    {
     "name": "stdout",
     "output_type": "stream",
     "text": [
      "([0.5, 1], [1.866, 2.366])\n"
     ]
    },
    {
     "data": {
      "image/png": "[encoded data removed]",
      "text/plain": [
       "<Figure size 432x288 with 1 Axes>"
      ]
     },
     "metadata": {
      "needs_background": "light"
     },
     "output_type": "display_data"
    }
   ],
   "source": [
    "def transforme_point(p, origine, vecteur_x, vecteur_y):\n",
    "    return [origine[0] + vecteur_x[0] * p[0] + vecteur_y[0] * p[1],\n",
    "            origine[1] + vecteur_x[1] * p[0] + vecteur_y[1] * p[1]]\n",
    "\n",
    "def escher_segments(s, epaisseur, rgba):\n",
    "    def _(origine, vecteur_x, vecteur_y):\n",
    "        return pj.multi_segments([[transforme_point(p, origine, vecteur_x, vecteur_y),\n",
    "                                   transforme_point(q, origine, vecteur_x, vecteur_y)]\n",
    "                                  for p, q in s],\n",
    "                                epaisseur,\n",
    "                                rgba)\n",
    "    return _\n",
    "\n",
    "def montre_escher(image_escher, origine, vecteur_x, vecteur_y, resolution):\n",
    "    coins = [origine, *(transforme_point(v, origine, vecteur_x, vecteur_y) for v in ([0, 1], [1, 0], [1, 1]))]\n",
    "    coin_inferieur = [min(v[idx] for v in coins) for idx in range(2)]\n",
    "    coin_superieur = [max(v[idx] for v in coins) for idx in range(2)]\n",
    "    # coin_superieur_x, coin_superieur_y = transforme_point([1, 1], origine, vecteur_x, vecteur_y)\n",
    "    print((coin_inferieur, coin_superieur))\n",
    "    pj.montre(image_escher(origine, vecteur_x, vecteur_y),\n",
    "              coin_inferieur,\n",
    "              coin_superieur,\n",
    "              resolution)\n",
    "    \n",
    "montre_escher(escher_segments([[[0, 0], [1, 1]], [[0.25, 0.75], [0.75, 0.25]]], 0.05, [0.0, 1.0, 0.0, 1.0]),\n",
    "              [1, 1],\n",
    "              [0.866, 0.5],\n",
    "              [-0.5, 0.866],\n",
    "              32)"
   ]
  },
  {
   "cell_type": "code",
   "execution_count": 58,
   "metadata": {},
   "outputs": [],
   "source": [
    "def tour_90_a_gauche(image):\n",
    "    # rot dans https://eprints.soton.ac.uk/257577/1/funcgeo2.pdf\n",
    "    def _(a, b, c):\n",
    "        return image(additionne_vecteurs(a, b), c, echelonne_vecteur(b, -1))\n",
    "    return _\n",
    "def symetrie_axe_vertical(image):\n",
    "    # flip dans https://eprints.soton.ac.uk/257577/1/funcgeo2.pdf\n",
    "    def _(a, b, c):\n",
    "        return image(additionne_vecteurs(a, b), echelonne_vecteur(b, -1), c)\n",
    "    return _\n",
    "def empile(au_dessus, en_dessous, m=1, n=1):\n",
    "    limite = n / (m + n)\n",
    "    colimite = m / (m + n)\n",
    "    def _(x, y):\n",
    "        if y > limite:\n",
    "            return au_dessus(x, (y - limite) / colimite)\n",
    "        else:\n",
    "            return en_dessous(x, y / limite)\n",
    "    return _\n",
    "def echelonne_vecteur(v, facteur):\n",
    "    return [x * facteur for x in v]\n",
    "def additionne_vecteurs(a, b):\n",
    "    return [a[idx] + b[idx] for idx in range(len(a))]\n",
    "def union_segments(i1, j2):\n",
    "    return i1 + j2\n",
    "def union_images(i1, j2):\n",
    "    def _(a, b, c):\n",
    "        return i1(a, b, c) + j2(a, b, c)\n",
    "    return _\n",
    "def a_cote(gauche, droite, m=1, n=1):\n",
    "    def _(a, b, c):\n",
    "        b1 = echelonne_vecteur(b, m / (m + n))\n",
    "        return union_segments(gauche(a, b1, c),\n",
    "                              droite(additionne_vecteurs(a, b1), \n",
    "                                     echelonne_vecteur(b, n / (m + n)),\n",
    "                                     c))\n",
    "    return _\n",
    "def au_dessus(au_dessus, en_dessous, m=1, n=1):\n",
    "    def _(a, b, c):\n",
    "        c1 = echelonne_vecteur(c, m / (m + n))\n",
    "        return union_segments(en_dessous(a, b, c1),\n",
    "                              au_dessus(additionne_vecteurs(a, c1), b, echelonne_vecteur(c, n / (m + n))))\n",
    "    return _\n",
    "def tour_45_a_gauche(image):\n",
    "    def _(a, b, c):\n",
    "        b_plus_c_demi = echelonne_vecteur(additionne_vecteurs(b, c), 0.5)\n",
    "        return image(additionne_vecteurs(a, b_plus_c_demi),\n",
    "                     b_plus_c_demi,\n",
    "                     echelonne_vecteur(additionne_vecteurs(echelonne_vecteur(b, -1), c), 0.5))\n",
    "    return _\n",
    "#ii = pj.multi_segments(r, 0.025, [0.1, 0.1, 0.1, 1.0])\n",
    "#pj.montre(empile(a_cote(ii, ii, m=0.5), ii, 2, 1), [0, 0], [1, 1], 128)"
   ]
  },
  {
   "cell_type": "markdown",
   "metadata": {},
   "source": [
    "Les coordonnes ont ete copiees de [ce site](https://blogs.msdn.microsoft.com/satnam_singh/2010/01/05/an-f-functional-geometry-description-of-eschers-fish/):"
   ]
  },
  {
   "cell_type": "code",
   "execution_count": 59,
   "metadata": {},
   "outputs": [],
   "source": [
    "def transforme_coordonnees_satnam_singh(xxx):\n",
    "    coordonnees = [[[x1 / 16, y1 / 16], [x2 / 16, y2 / 16]] for (x1, y1), (x2, y2) in xxx]\n",
    "    def applique_transformation(v, a, b, c):\n",
    "        return additionne_vecteurs(a, \n",
    "                                   additionne_vecteurs(echelonne_vecteur(b, v[0]),\n",
    "                                                       echelonne_vecteur(c, v[1])))\n",
    "    def _(a, b, c):\n",
    "        return [[applique_transformation(v, a, b, c), applique_transformation(w, a, b, c)]\n",
    "                for v, w in coordonnees]\n",
    "    return _"
   ]
  },
  {
   "cell_type": "code",
   "execution_count": 60,
   "metadata": {},
   "outputs": [
    {
     "data": {
      "image/png": "[encoded data removed]",
      "text/plain": [
       "<Figure size 432x288 with 1 Axes>"
      ]
     },
     "metadata": {
      "needs_background": "light"
     },
     "output_type": "display_data"
    }
   ],
   "source": [
    "p = transforme_coordonnees_satnam_singh(\n",
    "     [(( 4,  4), ( 6,  0)), (( 0,  3),  (3,  4)), (( 3,  4), ( 0,  8)),\n",
    "      (( 0,  8), ( 0,  3)), (( 4,  5), ( 7,  6)), (( 7,  6), ( 4, 10)),\n",
    "      (( 4, 10), ( 4,  5)), ((11,  0), (10,  4)), ((10,  4), ( 8,  8)),\n",
    "      (( 8,  8), ( 4, 13)), (( 4, 13), ( 0, 16)), ((11,  0), (14,  2)),\n",
    "      ((14,  2), (16,  2)), ((10,  4), (13,  5)), ((13,  5), (16,  4)),\n",
    "      (( 9,  6), (12,  7)), ((12,  7), (16,  6)), (( 8,  8), (12,  9)),\n",
    "      ((12,  9), (16,  8)), (( 8, 12), (16, 10)), (( 0, 16), ( 6, 15)),\n",
    "      (( 6, 15), ( 8, 16)), (( 8, 16), (12, 12)), ((12, 12), (16, 12)),\n",
    "      ((10, 16), (12, 14)), ((12, 14), (16, 13)), ((12, 16), (13, 15)),\n",
    "      ((13, 15), (16, 14)), ((14, 16), (16, 15)),\n",
    "      ((16,  0), (16,  8)), ((16, 12), (16, 16))])\n",
    "pj.montre(pj.multi_segments(p([0, 0], [1, 0], [0, 1]), 0.025, [0.1, 0.1, 0.1, 1.0]), [0, 0], [1, 1], 64)"
   ]
  },
  {
   "cell_type": "code",
   "execution_count": 61,
   "metadata": {},
   "outputs": [
    {
     "data": {
      "image/png": "[encoded data removed]",
      "text/plain": [
       "<Figure size 432x288 with 1 Axes>"
      ]
     },
     "metadata": {
      "needs_background": "light"
     },
     "output_type": "display_data"
    }
   ],
   "source": [
    "q = transforme_coordonnees_satnam_singh(\n",
    "     [(( 2,  0), ( 4,  5)), (( 4,  5), ( 4,  7)), (( 4,  0), ( 6,  5)),\n",
    "      (( 6,  5), ( 6,  7)), (( 6,  0), ( 8,  5)), (( 8,  5), ( 8,  8)),\n",
    "      (( 8,  0), (10,  6)), ((10,  6), (10,  9)), ((10,  0), (14, 11)),\n",
    "      ((12,  0), (13,  4)), ((13,  4), (16,  8)), ((16,  8), (15, 10)),\n",
    "      ((15, 10), (16, 16)), ((16, 16), (12, 10)), ((12, 10), ( 6,  7)),\n",
    "      (( 6,  7), ( 4,  7)), (( 4,  7), ( 0,  8)), ((13,  0), (16,  6)),\n",
    "      ((14,  0), (16,  4)), ((15,  0), (16,  2)), (( 0, 10), ( 7, 11)),\n",
    "      (( 9, 12), (10, 10)), ((10, 10), (12, 12)), ((12, 12), ( 9, 12)),\n",
    "      (( 8, 15), ( 9, 13)), (( 9, 13), (11, 15)), ((11, 15), ( 8, 15)),\n",
    "      (( 0, 12), ( 3, 13)), (( 3, 13), ( 7, 15)), (( 7, 15), ( 8, 16)),\n",
    "      (( 2, 16), ( 3, 13)), (( 4, 16), ( 5, 14)), (( 6, 16), ( 7, 15)),\n",
    "      (( 0,  0), ( 8,  0)), ((12,  0), (16,  0))])\n",
    "pj.montre(pj.multi_segments(q([0, 0], [1, 0], [0, 1]), 0.025, [0.1, 0.1, 0.1, 1.0]), [0, 0], [1, 1], 64)"
   ]
  },
  {
   "cell_type": "code",
   "execution_count": 62,
   "metadata": {},
   "outputs": [
    {
     "data": {
      "image/png": "[encoded data removed]",
      "text/plain": [
       "<Figure size 432x288 with 1 Axes>"
      ]
     },
     "metadata": {
      "needs_background": "light"
     },
     "output_type": "display_data"
    }
   ],
   "source": [
    "r = transforme_coordonnees_satnam_singh(\n",
    "     [(( 0, 12), ( 1, 14)), (( 0,  8), ( 2, 12)), (( 0,  4), ( 5, 10)),\n",
    "      (( 0,  0), ( 8,  8)), (( 1,  1), ( 4,  0)), (( 2,  2), ( 8,  0)),\n",
    "      (( 3,  3), ( 8 , 2)), (( 8,  2), (12,  0)), (( 5,  5), (12,  3)),\n",
    "      ((12,  3), (16,  0)), (( 0, 16), ( 2, 12)), (( 2, 12), ( 8,  8)),\n",
    "      (( 8,  8), (14,  6)), ((14,  6), (16,  4)), (( 6, 16), (11, 10)),\n",
    "      ((11, 10), (16,  6)), ((11, 16), (12, 12)), ((12, 12), (16,  8)),\n",
    "      ((12, 12), (16, 16)), ((13, 13), (16, 10)), ((14, 14), (16, 12)),\n",
    "      ((15, 15), (16, 14))])\n",
    "pj.montre(pj.multi_segments(r([0, 0], [1, 0], [0, 1]), 0.025, [0.1, 0.1, 0.1, 1.0]), [0, 0], [1, 1], 64)"
   ]
  },
  {
   "cell_type": "code",
   "execution_count": 63,
   "metadata": {},
   "outputs": [
    {
     "data": {
      "image/png": "[encoded data removed]",
      "text/plain": [
       "<Figure size 432x288 with 1 Axes>"
      ]
     },
     "metadata": {
      "needs_background": "light"
     },
     "output_type": "display_data"
    }
   ],
   "source": [
    "s = transforme_coordonnees_satnam_singh(\n",
    "     [(( 0,  0), ( 4,  2)), (( 4,  2), ( 8,  2)), (( 8,  2), (16,  0)),\n",
    "      (( 0,  4), ( 2,  1)), (( 0,  6), ( 7,  4)), (( 0,  8), ( 8,  6)),\n",
    "      (( 0, 10), ( 7,  8)), (( 0, 12), ( 7, 10)), (( 0, 14), ( 7, 13)),\n",
    "      (( 8, 16), ( 7, 13)), (( 7, 13), ( 7,  8)), (( 7,  8), ( 8,  6)),\n",
    "      (( 8,  6), (10,  4)), ((10,  4), (16,  0)), ((10, 16), (11, 10)),\n",
    "      ((10,  6), (12,  4)), ((12,  4), (12,  7)), ((12,  7), (10,  6)),\n",
    "      ((13,  7), (15,  5)), ((15,  5), (15,  8)), ((15,  8), (13,  7)),\n",
    "      ((12, 16), (13, 13)), ((13, 13), (15,  9)), ((15,  9), (16,  8)),\n",
    "      ((13, 13), (16, 14)), ((14, 11), (16, 12)), ((15,  9), (16, 10))])\n",
    "pj.montre(pj.multi_segments(s([0, 0], [1, 0], [0, 1]), 0.025, [0.1, 0.1, 0.1, 1.0]), [0, 0], [1, 1], 64)"
   ]
  },
  {
   "cell_type": "code",
   "execution_count": 66,
   "metadata": {},
   "outputs": [
    {
     "data": {
      "image/png": "[encoded data removed]",
      "text/plain": [
       "<Figure size 432x288 with 1 Axes>"
      ]
     },
     "metadata": {
      "needs_background": "light"
     },
     "output_type": "display_data"
    }
   ],
   "source": [
    "fish = transforme_coordonnees_satnam_singh([((x1 / 2, (y1 + 16) / 2), (x2 / 2, (y2 + 16) / 2)) for (x1, y1), (x2, y2) in\n",
    "     [(( 4,  4), ( 6,  0)), (( 0,  3),  (3,  4)), (( 3,  4), ( 0,  8)),\n",
    "      (( 0,  8), ( 0,  3)), (( 4,  5), ( 7,  6)), (( 7,  6), ( 4, 10)),\n",
    "      (( 4, 10), ( 4,  5)), ((11,  0), (10,  4)), ((10,  4), ( 8,  8)),\n",
    "      (( 8,  8), ( 7, 11)), (( 7, 11), ( 5, 13)), (( 5, 13), ( 0, 16)),\n",
    "      ((11,  0), (14,  2)),\n",
    "      ((14,  2), (16,  2)), ((10,  4), (13,  5)), ((13,  5), (16,  4)),\n",
    "      (( 9,  6), (12,  7)), ((12,  7), (16,  6)), (( 8,  8), (12,  9)),\n",
    "      ((12,  9), (16,  8)), ((16, 8), (16, 0)),\n",
    "      (( 0, 16), (-1, 12)), ((-1, 12), (-2, 7)), ((-2, 7), (0,  0)),\n",
    "      ((-4, -9), (-1, -2)), ((-1, -2), (1, -2)),\n",
    "      ((-2, -10), (0, -6)), ((0, -6), (2, -4)), \n",
    "      ((-1, -13), (0, -12)), ((0, -12), (5, -6)),\n",
    "      ((0, -16), (8, -8)), ((0, -16), (-8, -8)),\n",
    "# ((1, -15), (4, -16)),\n",
    "# ((2, -14), (8, -16)),\n",
    "# ((3, -13), (8, -14)),\n",
    "# ((8, -14), (12, -16)),\n",
    "# ((5, -11), (12, -13)),\n",
    "# ((12, -13), (16, -16)),\n",
    " \n",
    "      ((0, 0), (2, -4)), ((2, -4), (8, -8)), ((8, -8), (14, -10)), ((14, -10), (16, -12)),\n",
    " ((6, 0), (11, -6)), ((11, -6), (16, -10)), ((11, 0), (12, -4)), ((12, -4), (16, -8)),\n",
    " ((12, -4), (16, 0)),\n",
    "      \n",
    "      ((18, -15), (20, -14)), ((20, -14), (24, -14)), ((24, -14), (32, -16)),\n",
    " ((16, -12), (18, -15)), ((16, -10), (23, -12)), ((16, -8), (25, -10)), ((25, -10), (26, -12)),\n",
    " ((26, -12), (32, -16)),\n",
    "     ]])\n",
    "#fish = transforme_coordonnees_satnam_singh([((0, 0), (16, 0)), ((16, 0), (4, 12)), ((4, 12), (0, 12))])\n",
    "fish2 = symetrie_axe_vertical(tour_45_a_gauche(fish))\n",
    "fish3 = tour_90_a_gauche(tour_90_a_gauche(tour_90_a_gauche(fish2)))\n",
    "# 2 poissons: union_images(fish, tour_90_a_gauche(tour_90_a_gauche(fish)))\n",
    "t = union_images(fish, union_images(fish2, fish3))\n",
    "u = union_images(union_images(fish2, tour_90_a_gauche(fish2)),\n",
    "                 union_images(tour_90_a_gauche(tour_90_a_gauche(fish2)),\n",
    "                              tour_90_a_gauche(tour_90_a_gauche(tour_90_a_gauche(fish2)))))\n",
    "pj.montre(pj.multi_segments(u([0, 0], [1, 0], [0, 1]), 1/64, [0.1, 0.1, 0.1, 1.0]), [-0.125, -0.125], [1.125, 1.125], 128)"
   ]
  },
  {
   "cell_type": "code",
   "execution_count": 67,
   "metadata": {},
   "outputs": [
    {
     "data": {
      "image/png": "[encoded data removed]",
      "text/plain": [
       "<Figure size 432x288 with 1 Axes>"
      ]
     },
     "metadata": {
      "needs_background": "light"
     },
     "output_type": "display_data"
    }
   ],
   "source": [
    "def blanc(_a, _b, _c):\n",
    "    return []\n",
    "def quartet(p, q, r, s):\n",
    "    return au_dessus(a_cote(p, q), a_cote(r, s))\n",
    "def cycle(p):\n",
    "    q = tour_90_a_gauche(p)\n",
    "    r = tour_90_a_gauche(q)\n",
    "    s = tour_90_a_gauche(r)\n",
    "    return quartet(p, s, q, r)\n",
    "cote1 = quartet(blanc, blanc, tour_90_a_gauche(t), t)\n",
    "cote2 = quartet(cote1, cote1, tour_90_a_gauche(t), t)\n",
    "def cote(n):\n",
    "    if n <= 0:\n",
    "        return blanc\n",
    "    else:\n",
    "        return quartet(cote(n - 1), cote(n - 1), tour_90_a_gauche(t), t)\n",
    "def coin(n):\n",
    "    if n <= 0:\n",
    "        return blanc\n",
    "    else:\n",
    "        cote_n_1 = cote(n - 1)\n",
    "        return quartet(coin(n - 1), cote_n_1, tour_90_a_gauche(cote_n_1), u)\n",
    "pj.montre(pj.multi_segments(coin(2)([0, 0], [1, 0], [0, 1]), 1/128, [0.1, 0.1, 0.1, 1.0]), [-0.125, -0.25], [1.125, 1.25], 256)"
   ]
  },
  {
   "cell_type": "code",
   "execution_count": 68,
   "metadata": {},
   "outputs": [],
   "source": [
    "def nonet(p, q, r, s, t, u, v, w, x):\n",
    "    return au_dessus(\n",
    "        a_cote(p, a_cote(q, r), m=1, n=2),\n",
    "        au_dessus(\n",
    "              a_cote(s, a_cote(t, u), m=1, n=2),\n",
    "              a_cote(v, a_cote(w, x), m=1, n=2)),\n",
    "        m=2, n=1)"
   ]
  },
  {
   "cell_type": "code",
   "execution_count": 69,
   "metadata": {},
   "outputs": [],
   "source": [
    "coin_0 = coin(2)\n",
    "cote_0 = cote(2)\n",
    "coin_90 = tour_90_a_gauche(coin_0)\n",
    "cote_90 = tour_90_a_gauche(cote_0)\n",
    "coin_180 = tour_90_a_gauche(coin_90)\n",
    "cote_180 = tour_90_a_gauche(cote_90)\n",
    "squarelimit2 = nonet(coin_0,  cote_0,   tour_90_a_gauche(coin_180),\n",
    "                     cote_90, u,        tour_90_a_gauche(cote_180),\n",
    "                     coin_90, cote_180, coin_180)"
   ]
  },
  {
   "cell_type": "code",
   "execution_count": 72,
   "metadata": {},
   "outputs": [
    {
     "data": {
      "text/plain": [
       "20188"
      ]
     },
     "execution_count": 72,
     "metadata": {},
     "output_type": "execute_result"
    }
   ],
   "source": [
    "def squarelimit(n):\n",
    "    coin_0 = coin(n)\n",
    "    cote_0 = cote(n)\n",
    "    coin_90 = tour_90_a_gauche(coin_0)\n",
    "    cote_90 = tour_90_a_gauche(cote_0)\n",
    "    coin_180 = tour_90_a_gauche(coin_90)\n",
    "    cote_180 = tour_90_a_gauche(cote_90)\n",
    "    return nonet(coin_0,  cote_0,   tour_90_a_gauche(coin_180),\n",
    "                 cote_90, u,        tour_90_a_gauche(cote_180),\n",
    "                 coin_90, cote_180, coin_180)\n",
    "len(squarelimit(3)([0, 0], [1, 0], [0, 1]))"
   ]
  },
  {
   "cell_type": "code",
   "execution_count": 54,
   "metadata": {},
   "outputs": [],
   "source": [
    "pj.sauve('escher_fish_2.png', pj.multi_segments(squarelimit(2)([0, 0], [1, 0], [0, 1]), 1/512, [0.1, 0.1, 0.1, 1.0]), [-0.125, -0.25], [1.125, 1.25], 1024)"
   ]
  },
  {
   "cell_type": "code",
   "execution_count": null,
   "metadata": {},
   "outputs": [],
   "source": []
  }
 ],
 "metadata": {
  "kernelspec": {
   "display_name": "Python 3",
   "language": "python",
   "name": "python3"
  },
  "language_info": {
   "codemirror_mode": {
    "name": "ipython",
    "version": 3
   },
   "file_extension": ".py",
   "mimetype": "text/x-python",
   "name": "python",
   "nbconvert_exporter": "python",
   "pygments_lexer": "ipython3",
   "version": "3.7.3"
  }
 },
 "nbformat": 4,
 "nbformat_minor": 4
}
